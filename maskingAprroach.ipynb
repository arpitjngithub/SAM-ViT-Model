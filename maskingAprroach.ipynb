{
 "cells": [
  {
   "cell_type": "markdown",
   "metadata": {},
   "source": [
    "## Import "
   ]
  },
  {
   "cell_type": "code",
   "execution_count": null,
   "metadata": {},
   "outputs": [],
   "source": [
    "import numpy as np  # Importing NumPy for numerical operations on arrays\n",
    "import matplotlib.pyplot as plt  # Importing Matplotlib for plotting images\n",
    "import os  # Importing OS for file and directory operations\n",
    "from patchify import patchify, unpatchify  # Importing patchify for splitting and reconstructing images\n",
    "import random  # Importing random for random operations\n",
    "from PIL import Image  # Importing PIL for image processing\n",
    "from datasets import Dataset  # Importing Huggingface's Dataset class for handling data\n",
    "from torch.utils.data import Dataset  # Import the Dataset class from PyTorch\n",
    "from torch.utils.data import DataLoader\n",
    "\n",
    "from torch.optim import Adam\n",
    "import monai\n",
    "\n",
    "from tqdm import tqdm\n",
    "from statistics import mean\n",
    "import torch\n",
    "from torch.nn.functional import threshold, normalize\n",
    "\n",
    "\n"
   ]
  },
  {
   "cell_type": "markdown",
   "metadata": {},
   "source": [
    "#### Function to load and pad images from a folder to a target size\n",
    " "
   ]
  },
  {
   "cell_type": "code",
   "execution_count": null,
   "metadata": {},
   "outputs": [],
   "source": [
    "def load_and_pad_images_from_folder(folder, target_size=(1024, 1536)):\n",
    "    images = []  # List to store images\n",
    "    filenames = []  # List to store filenames\n",
    "    for filename in sorted(os.listdir(folder)):  # Iterate over sorted filenames in the folder\n",
    "        img_path = os.path.join(folder, filename)  # Construct the full image path\n",
    "        if os.path.isfile(img_path):  # Check if it is a file\n",
    "            img = Image.open(img_path).convert('RGB')  # Open the image and convert to RGB\n",
    "            img_array = np.array(img)  # Convert the image to a NumPy array\n",
    "            # Pad the image to the target size\n",
    "            pad_width = ((0, 0), (0, target_size[1] - img_array.shape[1]), (0, 0))\n",
    "            padded_img = np.pad(img_array, pad_width, mode='constant', constant_values=0)\n",
    "            images.append(padded_img)  # Append padded image to the list\n",
    "            filenames.append(filename)  # Append filename to the list\n",
    "    return np.array(images), filenames  # Return images and filenames as NumPy arrays\n"
   ]
  },
  {
   "cell_type": "markdown",
   "metadata": {},
   "source": [
    "###  Function to load and pad masks from a folder to a target size\n"
   ]
  },
  {
   "cell_type": "code",
   "execution_count": null,
   "metadata": {},
   "outputs": [],
   "source": [
    "def load_and_pad_masks_from_folder(folder, target_size=(1024, 1536)):\n",
    "    masks = []  # List to store masks\n",
    "    filenames = []  # List to store filenames\n",
    "    for filename in sorted(os.listdir(folder)):  # Iterate over sorted filenames in the folder\n",
    "        mask_path = os.path.join(folder, filename)  # Construct the full mask path\n",
    "        if os.path.isfile(mask_path):  # Check if it is a file\n",
    "            mask = np.load(mask_path)  # Load the mask file (NumPy array)\n",
    "            # Pad the mask to the target size\n",
    "            pad_width = ((0, 0), (0, target_size[1] - mask.shape[1]))\n",
    "            padded_mask = np.pad(mask, pad_width, mode='constant', constant_values=0)\n",
    "            masks.append(padded_mask)  # Append padded mask to the list\n",
    "            filenames.append(filename)  # Append filename to the list\n",
    "    return np.array(masks), filenames  # Return masks and filenames as NumPy arrays\n"
   ]
  },
  {
   "cell_type": "code",
   "execution_count": null,
   "metadata": {},
   "outputs": [],
   "source": [
    "# Folder paths\n",
    "image_folder_path = r'/data1/sprasad/baseline/image3 2/image3'\n",
    "mask_folder_path = r'/data1/sprasad/data/train/label3'\n",
    "\n",
    "# Load and pad images and masks\n",
    "large_images, image_filenames = load_and_pad_images_from_folder(image_folder_path)\n",
    "large_masks, mask_filenames = load_and_pad_masks_from_folder(mask_folder_path)\n",
    "\n",
    "# Ensure the filenames are sorted and correspond\n",
    "image_filenames = sorted(image_filenames)\n",
    "mask_filenames = sorted(mask_filenames)\n",
    "\n",
    "# Print shapes\n",
    "print(f'Shape of large_images: {large_images.shape}')  # Should be (18, 1024, 1536, 3)\n",
    "print(f'Shape of large_masks: {large_masks.shape}')    # Should be (18, 1024, 1536)\n"
   ]
  },
  {
   "cell_type": "code",
   "execution_count": null,
   "metadata": {},
   "outputs": [],
   "source": [
    "# Desired patch size for smaller images and step size.\n",
    "patch_size = 256\n",
    "step = 256\n",
    "all_img_patches = []  # List to store image patches\n",
    "all_mask_patches = []  # List to store mask patches\n",
    "all_patch_filenames = []  # List to store patch filenames\n",
    "\n",
    "\n",
    "\n",
    "# Iterate over each large image and mask\n",
    "for img_idx in range(large_images.shape[0]):\n",
    "    large_image = large_images[img_idx]  # Select the current large image\n",
    "    patches_img = patchify(large_image, (patch_size, patch_size, 3), step=step)  # Create patches from the image\n",
    "\n",
    "    large_mask = large_masks[img_idx]  # Select the current large mask\n",
    "    patches_mask = patchify(large_mask, (patch_size, patch_size), step=step)  # Create patches from the mask\n",
    "\n",
    "    # Iterate over each patch in the image and mask\n",
    "    for i in range(patches_img.shape[0]):\n",
    "        for j in range(patches_img.shape[1]):\n",
    "            single_patch_img = patches_img[i, j, :, :, :]  # Extract a single image patch\n",
    "            single_patch_mask = patches_mask[i, j, :, :]  # Extract a single mask patch\n",
    "\n",
    "            all_img_patches.append(single_patch_img)  # Append image patch to the list\n",
    "            all_mask_patches.append(single_patch_mask)  # Append mask patch to the list\n",
    "\n",
    "            # Generate a patch filename for tracking\n",
    "            patch_filename = f\"{image_filenames[img_idx].split('.')[0]}_patch_{i}_{j}.npy\"\n",
    "            all_patch_filenames.append(patch_filename)  # Append patch filename to the list\n",
    "\n",
    "\n",
    "images = np.array(all_img_patches)  # Convert image patches list to a NumPy array\n",
    "masks = np.array(all_mask_patches)  # Convert mask patches list to a NumPy array\n",
    "\n",
    "# Create a list to store the indices of non-empty masks\n",
    "valid_indices = [i for i, mask in enumerate(masks) if mask.max() != 0]\n",
    "\n",
    "\n",
    "# Filter the image and mask arrays to keep only the non-empty pairs\n",
    "filtered_images = images[valid_indices]\n",
    "filtered_masks = masks[valid_indices]\n",
    "filtered_filenames = [all_patch_filenames[i] for i in valid_indices]\n",
    "\n",
    "\n",
    "# Print shapes of the filtered images and masks\n",
    "print(\"Image shape:\", filtered_images.shape)  # e.g., (num_patches, height, width, num_channels)\n",
    "print(\"Mask shape:\", filtered_masks.shape)  # e.g., (num_patches, height, width)\n",
    "\n",
    "\n",
    "\n",
    "# Remove the extra dimension from images\n",
    "filtered_images = np.squeeze(filtered_images, axis=1)\n",
    "filtered_images = filtered_images.astype(np.uint8)  # Convert images to unsigned 8-bit integer type\n",
    "filtered_masks = filtered_masks.astype(np.uint8)  # Convert masks to unsigned 8-bit integer type\n",
    "\n",
    "\n"
   ]
  },
  {
   "cell_type": "markdown",
   "metadata": {},
   "source": [
    "### Convert the NumPy arrays to Pillow images and store them in a dictionary"
   ]
  },
  {
   "cell_type": "code",
   "execution_count": null,
   "metadata": {},
   "outputs": [],
   "source": [
    "\n",
    "\n",
    "dataset_dict = {\n",
    "    \"image\": [Image.fromarray(img) for img in filtered_images],\n",
    "    \"label\": [Image.fromarray(mask) for mask in filtered_masks],\n",
    "    \"filename\": filtered_filenames\n",
    "}\n",
    "\n",
    "\n",
    "# Create the dataset using the datasets.Dataset class\n",
    "dataset = Dataset.from_dict(dataset_dict)\n",
    "\n"
   ]
  },
  {
   "cell_type": "markdown",
   "metadata": {},
   "source": [
    "### Randomly select an image-mask pair to display"
   ]
  },
  {
   "cell_type": "code",
   "execution_count": 2,
   "metadata": {},
   "outputs": [
    {
     "data": {
      "image/png": "[encoded data removed]",
      "text/plain": [
       "<Figure size 1000x500 with 2 Axes>"
      ]
     },
     "metadata": {},
     "output_type": "display_data"
    }
   ],
   "source": [
    "img_num = random.randint(0, filtered_images.shape[0] - 1)  # Select a random index within the range of the filtered images array\n",
    "example_image = dataset[img_num][\"image\"]  # Retrieve the image corresponding to the random index from the dataset\n",
    "example_mask = dataset[img_num][\"label\"]  # Retrieve the mask corresponding to the random index from the dataset\n",
    "example_filename = dataset[img_num][\"filename\"]  # Retrieve the filename corresponding to the random index from the dataset\n",
    "\n",
    "fig, axes = plt.subplots(1, 2, figsize=(10, 5))  # Create a figure with 1 row and 2 columns, setting the figure size to 10x5 inches\n",
    "\n",
    "# Plot the first image on the left\n",
    "axes[0].imshow(np.array(example_image))  # Convert the PIL image to a NumPy array and display it in RGB\n",
    "axes[0].set_title(f\"Image: {example_filename}\")  # Set the title of the first subplot to the image filename\n",
    "\n",
    "# Plot the second image on the right\n",
    "axes[1].imshow(np.array(example_mask), cmap='gray')  # Convert the mask to a NumPy array and display it in grayscale\n",
    "axes[1].set_title(f\"Mask: {example_filename}\")  # Set the title of the second subplot to the mask filename\n",
    "\n",
    "# Hide axis ticks and labels for both subplots\n",
    "for ax in axes:\n",
    "    ax.set_xticks([])  # Remove x-axis ticks\n",
    "    ax.set_yticks([])  # Remove y-axis ticks\n",
    "    ax.set_xticklabels([])  # Remove x-axis tick labels\n",
    "    ax.set_yticklabels([])  # Remove y-axis tick labels\n",
    "\n",
    "# Display the images side by side\n",
    "plt.show()  # Render the figure\n"
   ]
  },
  {
   "cell_type": "markdown",
   "metadata": {},
   "source": [
    "### Get bounding boxes from mask."
   ]
  },
  {
   "cell_type": "code",
   "execution_count": 3,
   "metadata": {},
   "outputs": [],
   "source": [
    "'''\n",
    "This function computes the bounding box of\n",
    "non-zero regions in a given mask (binary image).\n",
    "It also adds random perturbations to the bounding box coordinates.\n",
    "\n",
    "'''\n",
    "\n",
    "\n",
    "def get_bounding_box(ground_truth_map):  # Define a function to get the bounding box from a mask\n",
    "    # get bounding box from mask\n",
    "    y_indices, x_indices = np.where(ground_truth_map > 0)  # Find indices of non-zero elements in the mask\n",
    "    x_min, x_max = np.min(x_indices), np.max(x_indices)  # Get minimum and maximum x-coordinates of the bounding box\n",
    "    y_min, y_max = np.min(y_indices), np.max(y_indices)  # Get minimum and maximum y-coordinates of the bounding box\n",
    "    \n",
    "    # add perturbation to bounding box coordinates\n",
    "    H, W = ground_truth_map.shape  # Get the height and width of the mask\n",
    "    x_min = max(0, x_min - np.random.randint(0, 20))  # Subtract a random value between 0 and 19 from x_min, ensuring it's non-negative\n",
    "    x_max = min(W, x_max + np.random.randint(0, 20))  # Add a random value between 0 and 19 to x_max, ensuring it doesn't exceed the width\n",
    "    y_min = max(0, y_min - np.random.randint(0, 20))  # Subtract a random value between 0 and 19 from y_min, ensuring it's non-negative\n",
    "    y_max = min(H, y_max + np.random.randint(0, 20))  # Add a random value between 0 and 19 to y_max, ensuring it doesn't exceed the height\n",
    "    \n",
    "    bbox = [x_min, y_min, x_max, y_max]  # Create a list representing the bounding box coordinates\n",
    "\n",
    "    return bbox  # Return the bounding box coordinates\n"
   ]
  },
  {
   "cell_type": "markdown",
   "metadata": {},
   "source": [
    "### SAM DATASET"
   ]
  },
  {
   "cell_type": "code",
   "execution_count": 4,
   "metadata": {},
   "outputs": [],
   "source": [
    "class SAMDataset(Dataset):\n",
    "    \"\"\"\n",
    "    This class is used to create a dataset that serves input images and masks.\n",
    "    It takes a dataset and a processor as input and overrides the __len__ and __getitem__ methods of the Dataset class.\n",
    "    \"\"\"\n",
    "    def __init__(self, dataset, processor):  # Initialize the dataset and processor\n",
    "        self.dataset = dataset  # Store the dataset\n",
    "        self.processor = processor  # Store the processor\n",
    "\n",
    "    def __len__(self):  # Return the length of the dataset\n",
    "        return len(self.dataset)\n",
    "\n",
    "    def __getitem__(self, idx):  # Get an item from the dataset by index\n",
    "        item = self.dataset[idx]  # Retrieve the item from the dataset\n",
    "        image = item[\"image\"]  # Extract the image from the item\n",
    "        ground_truth_mask = np.array(item[\"label\"])  # Extract the mask and convert it to a NumPy array\n",
    "\n",
    "        # get bounding box prompt\n",
    "        prompt = get_bounding_box(ground_truth_mask)  # Generate the bounding box from the mask\n",
    "\n",
    "        # prepare image and prompt for the model\n",
    "        inputs = self.processor(image, input_boxes=[[prompt]], return_tensors=\"pt\")  # Process the image and bounding box to prepare for the model\n",
    "\n",
    "        # remove batch dimension which the processor adds by default\n",
    "        inputs = {k: v.squeeze(0) for k, v in inputs.items()}  # Remove the batch dimension from the processed inputs\n",
    "\n",
    "        # add ground truth segmentation\n",
    "        inputs[\"ground_truth_mask\"] = ground_truth_mask  # Add the ground truth mask to the inputs\n",
    "\n",
    "        return inputs  # Return the processed inputs\n"
   ]
  },
  {
   "cell_type": "markdown",
   "metadata": {},
   "source": [
    "### Initialize the processor"
   ]
  },
  {
   "cell_type": "code",
   "execution_count": 5,
   "metadata": {},
   "outputs": [
    {
     "name": "stderr",
     "output_type": "stream",
     "text": [
      "2024-06-17 14:34:55.161815: I tensorflow/core/platform/cpu_feature_guard.cc:210] This TensorFlow binary is optimized to use available CPU instructions in performance-critical operations.\n",
      "To enable the following instructions: AVX2 FMA, in other operations, rebuild TensorFlow with the appropriate compiler flags.\n",
      "2024-06-17 14:34:55.973137: W tensorflow/compiler/tf2tensorrt/utils/py_utils.cc:38] TF-TRT Warning: Could not find TensorRT\n"
     ]
    }
   ],
   "source": [
    "'''\n",
    "This line initializes a processor using a pre-trained model from the Huggingface Transformers library. \n",
    "The processor is used for preparing images and bounding boxes for the model.\n",
    "\n",
    "\n",
    "'''\n",
    "from transformers import SamProcessor  # Import the SamProcessor class from the Huggingface Transformers library\n",
    "\n",
    "processor = SamProcessor.from_pretrained(\"facebook/sam-vit-base\")  # Initialize the processor with a pre-trained model\n"
   ]
  },
  {
   "cell_type": "markdown",
   "metadata": {},
   "source": [
    "### Create an instance of the SAMDataset"
   ]
  },
  {
   "cell_type": "code",
   "execution_count": 7,
   "metadata": {},
   "outputs": [
    {
     "name": "stdout",
     "output_type": "stream",
     "text": [
      "pixel_values torch.Size([3, 1024, 1024])\n",
      "original_sizes torch.Size([2])\n",
      "reshaped_input_sizes torch.Size([2])\n",
      "input_boxes torch.Size([1, 4])\n",
      "ground_truth_mask (256, 256)\n"
     ]
    }
   ],
   "source": [
    "# Create an instance of the SAMDataset\n",
    "train_dataset = SAMDataset(dataset=dataset, processor=processor)  # Initialize the SAMDataset with the dataset and processor\n",
    "\n",
    "example = train_dataset[0]  # Retrieve the first example from the dataset\n",
    "\n",
    "for k, v in example.items():  # Iterate through each item in the example\n",
    "    print(k, v.shape)  # Print the key and shape of each item\n"
   ]
  },
  {
   "cell_type": "markdown",
   "metadata": {},
   "source": [
    "### Create a DataLoader instance for the training dataset"
   ]
  },
  {
   "cell_type": "code",
   "execution_count": 9,
   "metadata": {},
   "outputs": [
    {
     "name": "stdout",
     "output_type": "stream",
     "text": [
      "pixel_values torch.Size([2, 3, 1024, 1024])\n",
      "original_sizes torch.Size([2, 2])\n",
      "reshaped_input_sizes torch.Size([2, 2])\n",
      "input_boxes torch.Size([2, 1, 4])\n",
      "ground_truth_mask torch.Size([2, 256, 256])\n"
     ]
    }
   ],
   "source": [
    "\n",
    "from torch.utils.data import DataLoader\n",
    "train_dataloader = DataLoader(train_dataset, batch_size=2, shuffle=True, drop_last=False)\n",
    "\n",
    "batch = next(iter(train_dataloader))\n",
    "for k,v in batch.items():\n",
    "  print(k,v.shape)"
   ]
  },
  {
   "cell_type": "code",
   "execution_count": 10,
   "metadata": {},
   "outputs": [
    {
     "data": {
      "text/plain": [
       "torch.Size([2, 256, 256])"
      ]
     },
     "execution_count": 10,
     "metadata": {},
     "output_type": "execute_result"
    }
   ],
   "source": [
    "batch[\"ground_truth_mask\"].shape"
   ]
  },
  {
   "cell_type": "markdown",
   "metadata": {},
   "source": [
    "### Load the model"
   ]
  },
  {
   "cell_type": "code",
   "execution_count": 11,
   "metadata": {},
   "outputs": [],
   "source": [
    "# Load the model\n",
    "from transformers import SamModel  # Import the SamModel class from the Huggingface Transformers library\n",
    "model = SamModel.from_pretrained(\"facebook/sam-vit-base\")  # Initialize the model with a pre-trained version of \"sam-vit-base\"\n",
    "\n",
    "# make sure we only compute gradients for mask decoder\n",
    "for name, param in model.named_parameters():  # Iterate through the named parameters of the model\n",
    "    if name.startswith(\"vision_encoder\") or name.startswith(\"prompt_encoder\"):  # Check if the parameter belongs to the vision encoder or prompt encoder\n",
    "        param.requires_grad_(False)  # Freeze the parameter by setting requires_grad to False\n"
   ]
  },
  {
   "cell_type": "code",
   "execution_count": 12,
   "metadata": {},
   "outputs": [],
   "source": [
    "'''\n",
    "This code snippet initializes an optimizer and a loss function for training the model.\n",
    "The optimizer will update the parameters of the mask decoder during training,\n",
    "and the loss function will evaluate the performance of the model's predictions\n",
    "\n",
    "'''\n",
    "\n",
    "\n",
    "\n",
    "# Initialize the optimizer and the loss function\n",
    "optimizer = Adam(model.mask_decoder.parameters(), lr=1e-5, weight_decay=0)  # Initialize the Adam optimizer for the mask decoder parameters with a learning rate of 1e-5 and no weight decay\n",
    "\n",
    "# Try DiceFocalLoss, FocalLoss, DiceCELoss\n",
    "seg_loss = monai.losses.DiceCELoss(sigmoid=True, squared_pred=True, reduction='mean')  # Initialize the DiceCELoss loss function with specific options\n"
   ]
  },
  {
   "cell_type": "code",
   "execution_count": 13,
   "metadata": {},
   "outputs": [
    {
     "name": "stderr",
     "output_type": "stream",
     "text": [
      "100%|██████████| 155/155 [00:54<00:00,  2.83it/s]\n"
     ]
    },
    {
     "name": "stdout",
     "output_type": "stream",
     "text": [
      "EPOCH: 0\n",
      "Mean loss: 0.511850419063722\n"
     ]
    },
    {
     "name": "stderr",
     "output_type": "stream",
     "text": [
      "100%|██████████| 155/155 [00:59<00:00,  2.61it/s]\n"
     ]
    },
    {
     "name": "stdout",
     "output_type": "stream",
     "text": [
      "EPOCH: 1\n",
      "Mean loss: 0.3771012594142268\n"
     ]
    },
    {
     "name": "stderr",
     "output_type": "stream",
     "text": [
      "100%|██████████| 155/155 [00:57<00:00,  2.68it/s]\n"
     ]
    },
    {
     "name": "stdout",
     "output_type": "stream",
     "text": [
      "EPOCH: 2\n",
      "Mean loss: 0.3320419861424354\n"
     ]
    },
    {
     "name": "stderr",
     "output_type": "stream",
     "text": [
      "100%|██████████| 155/155 [01:00<00:00,  2.58it/s]\n"
     ]
    },
    {
     "name": "stdout",
     "output_type": "stream",
     "text": [
      "EPOCH: 3\n",
      "Mean loss: 0.3200416098198583\n"
     ]
    },
    {
     "name": "stderr",
     "output_type": "stream",
     "text": [
      "100%|██████████| 155/155 [00:53<00:00,  2.90it/s]\n"
     ]
    },
    {
     "name": "stdout",
     "output_type": "stream",
     "text": [
      "EPOCH: 4\n",
      "Mean loss: 0.28867433179290064\n"
     ]
    },
    {
     "name": "stderr",
     "output_type": "stream",
     "text": [
      "100%|██████████| 155/155 [00:54<00:00,  2.86it/s]\n"
     ]
    },
    {
     "name": "stdout",
     "output_type": "stream",
     "text": [
      "EPOCH: 5\n",
      "Mean loss: 0.28106919901986277\n"
     ]
    },
    {
     "name": "stderr",
     "output_type": "stream",
     "text": [
      "100%|██████████| 155/155 [00:56<00:00,  2.76it/s]\n"
     ]
    },
    {
     "name": "stdout",
     "output_type": "stream",
     "text": [
      "EPOCH: 6\n",
      "Mean loss: 0.2699643085560491\n"
     ]
    },
    {
     "name": "stderr",
     "output_type": "stream",
     "text": [
      "100%|██████████| 155/155 [00:56<00:00,  2.72it/s]\n"
     ]
    },
    {
     "name": "stdout",
     "output_type": "stream",
     "text": [
      "EPOCH: 7\n",
      "Mean loss: 0.25990906924970686\n"
     ]
    },
    {
     "name": "stderr",
     "output_type": "stream",
     "text": [
      "100%|██████████| 155/155 [00:52<00:00,  2.95it/s]\n"
     ]
    },
    {
     "name": "stdout",
     "output_type": "stream",
     "text": [
      "EPOCH: 8\n",
      "Mean loss: 0.2500307845492517\n"
     ]
    },
    {
     "name": "stderr",
     "output_type": "stream",
     "text": [
      "100%|██████████| 155/155 [00:52<00:00,  2.94it/s]\n"
     ]
    },
    {
     "name": "stdout",
     "output_type": "stream",
     "text": [
      "EPOCH: 9\n",
      "Mean loss: 0.24436438674888303\n"
     ]
    },
    {
     "name": "stderr",
     "output_type": "stream",
     "text": [
      "100%|██████████| 155/155 [00:54<00:00,  2.86it/s]\n"
     ]
    },
    {
     "name": "stdout",
     "output_type": "stream",
     "text": [
      "EPOCH: 10\n",
      "Mean loss: 0.23883676591419403\n"
     ]
    },
    {
     "name": "stderr",
     "output_type": "stream",
     "text": [
      "100%|██████████| 155/155 [00:57<00:00,  2.70it/s]\n"
     ]
    },
    {
     "name": "stdout",
     "output_type": "stream",
     "text": [
      "EPOCH: 11\n",
      "Mean loss: 0.23198559267386312\n"
     ]
    },
    {
     "name": "stderr",
     "output_type": "stream",
     "text": [
      "100%|██████████| 155/155 [00:58<00:00,  2.66it/s]\n"
     ]
    },
    {
     "name": "stdout",
     "output_type": "stream",
     "text": [
      "EPOCH: 12\n",
      "Mean loss: 0.22651311269690913\n"
     ]
    },
    {
     "name": "stderr",
     "output_type": "stream",
     "text": [
      "100%|██████████| 155/155 [00:50<00:00,  3.04it/s]\n"
     ]
    },
    {
     "name": "stdout",
     "output_type": "stream",
     "text": [
      "EPOCH: 13\n",
      "Mean loss: 0.2309110795778613\n"
     ]
    },
    {
     "name": "stderr",
     "output_type": "stream",
     "text": [
      "100%|██████████| 155/155 [00:52<00:00,  2.95it/s]\n"
     ]
    },
    {
     "name": "stdout",
     "output_type": "stream",
     "text": [
      "EPOCH: 14\n",
      "Mean loss: 0.22222183043918303\n"
     ]
    },
    {
     "name": "stderr",
     "output_type": "stream",
     "text": [
      "100%|██████████| 155/155 [00:53<00:00,  2.88it/s]\n"
     ]
    },
    {
     "name": "stdout",
     "output_type": "stream",
     "text": [
      "EPOCH: 15\n",
      "Mean loss: 0.21295391479807516\n"
     ]
    },
    {
     "name": "stderr",
     "output_type": "stream",
     "text": [
      "100%|██████████| 155/155 [00:52<00:00,  2.94it/s]\n"
     ]
    },
    {
     "name": "stdout",
     "output_type": "stream",
     "text": [
      "EPOCH: 16\n",
      "Mean loss: 0.21169808052720562\n"
     ]
    },
    {
     "name": "stderr",
     "output_type": "stream",
     "text": [
      "100%|██████████| 155/155 [00:54<00:00,  2.85it/s]\n"
     ]
    },
    {
     "name": "stdout",
     "output_type": "stream",
     "text": [
      "EPOCH: 17\n",
      "Mean loss: 0.20529274009168147\n"
     ]
    },
    {
     "name": "stderr",
     "output_type": "stream",
     "text": [
      "100%|██████████| 155/155 [00:52<00:00,  2.96it/s]\n"
     ]
    },
    {
     "name": "stdout",
     "output_type": "stream",
     "text": [
      "EPOCH: 18\n",
      "Mean loss: 0.20693904952176156\n"
     ]
    },
    {
     "name": "stderr",
     "output_type": "stream",
     "text": [
      "100%|██████████| 155/155 [00:52<00:00,  2.96it/s]\n"
     ]
    },
    {
     "name": "stdout",
     "output_type": "stream",
     "text": [
      "EPOCH: 19\n",
      "Mean loss: 0.20583588644381492\n"
     ]
    },
    {
     "name": "stderr",
     "output_type": "stream",
     "text": [
      "100%|██████████| 155/155 [00:52<00:00,  2.96it/s]\n"
     ]
    },
    {
     "name": "stdout",
     "output_type": "stream",
     "text": [
      "EPOCH: 20\n",
      "Mean loss: 0.20126882517530073\n"
     ]
    },
    {
     "name": "stderr",
     "output_type": "stream",
     "text": [
      "100%|██████████| 155/155 [00:52<00:00,  2.96it/s]\n"
     ]
    },
    {
     "name": "stdout",
     "output_type": "stream",
     "text": [
      "EPOCH: 21\n",
      "Mean loss: 0.20301093968652908\n"
     ]
    },
    {
     "name": "stderr",
     "output_type": "stream",
     "text": [
      "100%|██████████| 155/155 [00:55<00:00,  2.77it/s]\n"
     ]
    },
    {
     "name": "stdout",
     "output_type": "stream",
     "text": [
      "EPOCH: 22\n",
      "Mean loss: 0.20492701362217627\n"
     ]
    },
    {
     "name": "stderr",
     "output_type": "stream",
     "text": [
      "100%|██████████| 155/155 [00:55<00:00,  2.79it/s]\n"
     ]
    },
    {
     "name": "stdout",
     "output_type": "stream",
     "text": [
      "EPOCH: 23\n",
      "Mean loss: 0.1976302555011165\n"
     ]
    },
    {
     "name": "stderr",
     "output_type": "stream",
     "text": [
      "100%|██████████| 155/155 [00:52<00:00,  2.94it/s]\n"
     ]
    },
    {
     "name": "stdout",
     "output_type": "stream",
     "text": [
      "EPOCH: 24\n",
      "Mean loss: 0.1911826278653837\n"
     ]
    },
    {
     "name": "stderr",
     "output_type": "stream",
     "text": [
      "100%|██████████| 155/155 [00:58<00:00,  2.63it/s]\n"
     ]
    },
    {
     "name": "stdout",
     "output_type": "stream",
     "text": [
      "EPOCH: 25\n",
      "Mean loss: 0.18619398354522643\n"
     ]
    },
    {
     "name": "stderr",
     "output_type": "stream",
     "text": [
      "100%|██████████| 155/155 [01:00<00:00,  2.56it/s]\n"
     ]
    },
    {
     "name": "stdout",
     "output_type": "stream",
     "text": [
      "EPOCH: 26\n",
      "Mean loss: 0.18588908929978648\n"
     ]
    },
    {
     "name": "stderr",
     "output_type": "stream",
     "text": [
      "100%|██████████| 155/155 [00:56<00:00,  2.74it/s]\n"
     ]
    },
    {
     "name": "stdout",
     "output_type": "stream",
     "text": [
      "EPOCH: 27\n",
      "Mean loss: 0.18394555449485778\n"
     ]
    },
    {
     "name": "stderr",
     "output_type": "stream",
     "text": [
      "100%|██████████| 155/155 [01:17<00:00,  1.99it/s]\n"
     ]
    },
    {
     "name": "stdout",
     "output_type": "stream",
     "text": [
      "EPOCH: 28\n",
      "Mean loss: 0.1828758630300722\n"
     ]
    },
    {
     "name": "stderr",
     "output_type": "stream",
     "text": [
      "100%|██████████| 155/155 [00:57<00:00,  2.70it/s]\n"
     ]
    },
    {
     "name": "stdout",
     "output_type": "stream",
     "text": [
      "EPOCH: 29\n",
      "Mean loss: 0.17934501560464983\n"
     ]
    },
    {
     "name": "stderr",
     "output_type": "stream",
     "text": [
      "100%|██████████| 155/155 [01:08<00:00,  2.26it/s]\n"
     ]
    },
    {
     "name": "stdout",
     "output_type": "stream",
     "text": [
      "EPOCH: 30\n",
      "Mean loss: 0.17296431218424152\n"
     ]
    },
    {
     "name": "stderr",
     "output_type": "stream",
     "text": [
      "100%|██████████| 155/155 [00:59<00:00,  2.59it/s]\n"
     ]
    },
    {
     "name": "stdout",
     "output_type": "stream",
     "text": [
      "EPOCH: 31\n",
      "Mean loss: 0.18271983684070647\n"
     ]
    },
    {
     "name": "stderr",
     "output_type": "stream",
     "text": [
      "100%|██████████| 155/155 [01:24<00:00,  1.84it/s]\n"
     ]
    },
    {
     "name": "stdout",
     "output_type": "stream",
     "text": [
      "EPOCH: 32\n",
      "Mean loss: 0.18014092031986484\n"
     ]
    },
    {
     "name": "stderr",
     "output_type": "stream",
     "text": [
      "100%|██████████| 155/155 [01:25<00:00,  1.81it/s]\n"
     ]
    },
    {
     "name": "stdout",
     "output_type": "stream",
     "text": [
      "EPOCH: 33\n",
      "Mean loss: 0.17472201004143684\n"
     ]
    },
    {
     "name": "stderr",
     "output_type": "stream",
     "text": [
      "100%|██████████| 155/155 [01:27<00:00,  1.78it/s]\n"
     ]
    },
    {
     "name": "stdout",
     "output_type": "stream",
     "text": [
      "EPOCH: 34\n",
      "Mean loss: 0.16898674859154608\n"
     ]
    },
    {
     "name": "stderr",
     "output_type": "stream",
     "text": [
      "100%|██████████| 155/155 [01:14<00:00,  2.07it/s]\n"
     ]
    },
    {
     "name": "stdout",
     "output_type": "stream",
     "text": [
      "EPOCH: 35\n",
      "Mean loss: 0.16865838328676838\n"
     ]
    },
    {
     "name": "stderr",
     "output_type": "stream",
     "text": [
      "100%|██████████| 155/155 [01:05<00:00,  2.35it/s]\n"
     ]
    },
    {
     "name": "stdout",
     "output_type": "stream",
     "text": [
      "EPOCH: 36\n",
      "Mean loss: 0.17267652413537427\n"
     ]
    },
    {
     "name": "stderr",
     "output_type": "stream",
     "text": [
      "100%|██████████| 155/155 [00:58<00:00,  2.65it/s]\n"
     ]
    },
    {
     "name": "stdout",
     "output_type": "stream",
     "text": [
      "EPOCH: 37\n",
      "Mean loss: 0.1685413698275243\n"
     ]
    },
    {
     "name": "stderr",
     "output_type": "stream",
     "text": [
      "100%|██████████| 155/155 [00:58<00:00,  2.64it/s]\n"
     ]
    },
    {
     "name": "stdout",
     "output_type": "stream",
     "text": [
      "EPOCH: 38\n",
      "Mean loss: 0.1626202167762864\n"
     ]
    },
    {
     "name": "stderr",
     "output_type": "stream",
     "text": [
      "100%|██████████| 155/155 [01:03<00:00,  2.44it/s]\n"
     ]
    },
    {
     "name": "stdout",
     "output_type": "stream",
     "text": [
      "EPOCH: 39\n",
      "Mean loss: 0.15955150850838232\n"
     ]
    },
    {
     "name": "stderr",
     "output_type": "stream",
     "text": [
      "100%|██████████| 155/155 [01:12<00:00,  2.14it/s]\n"
     ]
    },
    {
     "name": "stdout",
     "output_type": "stream",
     "text": [
      "EPOCH: 40\n",
      "Mean loss: 0.1602476837173585\n"
     ]
    },
    {
     "name": "stderr",
     "output_type": "stream",
     "text": [
      "100%|██████████| 155/155 [00:57<00:00,  2.68it/s]\n"
     ]
    },
    {
     "name": "stdout",
     "output_type": "stream",
     "text": [
      "EPOCH: 41\n",
      "Mean loss: 0.1586193542086309\n"
     ]
    },
    {
     "name": "stderr",
     "output_type": "stream",
     "text": [
      "100%|██████████| 155/155 [01:02<00:00,  2.47it/s]\n"
     ]
    },
    {
     "name": "stdout",
     "output_type": "stream",
     "text": [
      "EPOCH: 42\n",
      "Mean loss: 0.16939226840772936\n"
     ]
    },
    {
     "name": "stderr",
     "output_type": "stream",
     "text": [
      "100%|██████████| 155/155 [00:59<00:00,  2.62it/s]\n"
     ]
    },
    {
     "name": "stdout",
     "output_type": "stream",
     "text": [
      "EPOCH: 43\n",
      "Mean loss: 0.16450079744381288\n"
     ]
    },
    {
     "name": "stderr",
     "output_type": "stream",
     "text": [
      "100%|██████████| 155/155 [00:53<00:00,  2.90it/s]\n"
     ]
    },
    {
     "name": "stdout",
     "output_type": "stream",
     "text": [
      "EPOCH: 44\n",
      "Mean loss: 0.15591024520897095\n"
     ]
    },
    {
     "name": "stderr",
     "output_type": "stream",
     "text": [
      "100%|██████████| 155/155 [00:53<00:00,  2.89it/s]\n"
     ]
    },
    {
     "name": "stdout",
     "output_type": "stream",
     "text": [
      "EPOCH: 45\n",
      "Mean loss: 0.1537236553046011\n"
     ]
    },
    {
     "name": "stderr",
     "output_type": "stream",
     "text": [
      "100%|██████████| 155/155 [00:58<00:00,  2.64it/s]\n"
     ]
    },
    {
     "name": "stdout",
     "output_type": "stream",
     "text": [
      "EPOCH: 46\n",
      "Mean loss: 0.14910971784303265\n"
     ]
    },
    {
     "name": "stderr",
     "output_type": "stream",
     "text": [
      "100%|██████████| 155/155 [01:17<00:00,  2.00it/s]\n"
     ]
    },
    {
     "name": "stdout",
     "output_type": "stream",
     "text": [
      "EPOCH: 47\n",
      "Mean loss: 0.14816138374228632\n"
     ]
    },
    {
     "name": "stderr",
     "output_type": "stream",
     "text": [
      "100%|██████████| 155/155 [00:59<00:00,  2.61it/s]\n"
     ]
    },
    {
     "name": "stdout",
     "output_type": "stream",
     "text": [
      "EPOCH: 48\n",
      "Mean loss: 0.14400496641474386\n"
     ]
    },
    {
     "name": "stderr",
     "output_type": "stream",
     "text": [
      "100%|██████████| 155/155 [01:15<00:00,  2.04it/s]\n"
     ]
    },
    {
     "name": "stdout",
     "output_type": "stream",
     "text": [
      "EPOCH: 49\n",
      "Mean loss: 0.14833698544290758\n"
     ]
    },
    {
     "name": "stderr",
     "output_type": "stream",
     "text": [
      "100%|██████████| 155/155 [01:10<00:00,  2.20it/s]\n"
     ]
    },
    {
     "name": "stdout",
     "output_type": "stream",
     "text": [
      "EPOCH: 50\n",
      "Mean loss: 0.1464119932584224\n"
     ]
    },
    {
     "name": "stderr",
     "output_type": "stream",
     "text": [
      "100%|██████████| 155/155 [00:58<00:00,  2.63it/s]\n"
     ]
    },
    {
     "name": "stdout",
     "output_type": "stream",
     "text": [
      "EPOCH: 51\n",
      "Mean loss: 0.14472238173888577\n"
     ]
    },
    {
     "name": "stderr",
     "output_type": "stream",
     "text": [
      "100%|██████████| 155/155 [01:01<00:00,  2.52it/s]\n"
     ]
    },
    {
     "name": "stdout",
     "output_type": "stream",
     "text": [
      "EPOCH: 52\n",
      "Mean loss: 0.1454840472388652\n"
     ]
    },
    {
     "name": "stderr",
     "output_type": "stream",
     "text": [
      "100%|██████████| 155/155 [00:52<00:00,  2.96it/s]\n"
     ]
    },
    {
     "name": "stdout",
     "output_type": "stream",
     "text": [
      "EPOCH: 53\n",
      "Mean loss: 0.1438606350652633\n"
     ]
    },
    {
     "name": "stderr",
     "output_type": "stream",
     "text": [
      "100%|██████████| 155/155 [00:52<00:00,  2.95it/s]\n"
     ]
    },
    {
     "name": "stdout",
     "output_type": "stream",
     "text": [
      "EPOCH: 54\n",
      "Mean loss: 0.1393936163715778\n"
     ]
    },
    {
     "name": "stderr",
     "output_type": "stream",
     "text": [
      "100%|██████████| 155/155 [00:58<00:00,  2.64it/s]\n"
     ]
    },
    {
     "name": "stdout",
     "output_type": "stream",
     "text": [
      "EPOCH: 55\n",
      "Mean loss: 0.14497145637869835\n"
     ]
    },
    {
     "name": "stderr",
     "output_type": "stream",
     "text": [
      "100%|██████████| 155/155 [01:17<00:00,  2.00it/s]\n"
     ]
    },
    {
     "name": "stdout",
     "output_type": "stream",
     "text": [
      "EPOCH: 56\n",
      "Mean loss: 0.14708143042460564\n"
     ]
    },
    {
     "name": "stderr",
     "output_type": "stream",
     "text": [
      "100%|██████████| 155/155 [00:59<00:00,  2.62it/s]\n"
     ]
    },
    {
     "name": "stdout",
     "output_type": "stream",
     "text": [
      "EPOCH: 57\n",
      "Mean loss: 0.13822509704097624\n"
     ]
    },
    {
     "name": "stderr",
     "output_type": "stream",
     "text": [
      "100%|██████████| 155/155 [00:57<00:00,  2.68it/s]\n"
     ]
    },
    {
     "name": "stdout",
     "output_type": "stream",
     "text": [
      "EPOCH: 58\n",
      "Mean loss: 0.14116990342736244\n"
     ]
    },
    {
     "name": "stderr",
     "output_type": "stream",
     "text": [
      "100%|██████████| 155/155 [00:59<00:00,  2.61it/s]\n"
     ]
    },
    {
     "name": "stdout",
     "output_type": "stream",
     "text": [
      "EPOCH: 59\n",
      "Mean loss: 0.13670724565463682\n"
     ]
    },
    {
     "name": "stderr",
     "output_type": "stream",
     "text": [
      "100%|██████████| 155/155 [00:57<00:00,  2.69it/s]\n"
     ]
    },
    {
     "name": "stdout",
     "output_type": "stream",
     "text": [
      "EPOCH: 60\n",
      "Mean loss: 0.13221319512494148\n"
     ]
    },
    {
     "name": "stderr",
     "output_type": "stream",
     "text": [
      "100%|██████████| 155/155 [00:54<00:00,  2.83it/s]\n"
     ]
    },
    {
     "name": "stdout",
     "output_type": "stream",
     "text": [
      "EPOCH: 61\n",
      "Mean loss: 0.1326489358419372\n"
     ]
    },
    {
     "name": "stderr",
     "output_type": "stream",
     "text": [
      "100%|██████████| 155/155 [00:52<00:00,  2.96it/s]\n"
     ]
    },
    {
     "name": "stdout",
     "output_type": "stream",
     "text": [
      "EPOCH: 62\n",
      "Mean loss: 0.13510951718255396\n"
     ]
    },
    {
     "name": "stderr",
     "output_type": "stream",
     "text": [
      "100%|██████████| 155/155 [00:52<00:00,  2.95it/s]\n"
     ]
    },
    {
     "name": "stdout",
     "output_type": "stream",
     "text": [
      "EPOCH: 63\n",
      "Mean loss: 0.13509484202631059\n"
     ]
    },
    {
     "name": "stderr",
     "output_type": "stream",
     "text": [
      "100%|██████████| 155/155 [01:10<00:00,  2.21it/s]\n"
     ]
    },
    {
     "name": "stdout",
     "output_type": "stream",
     "text": [
      "EPOCH: 64\n",
      "Mean loss: 0.13484643128129745\n"
     ]
    },
    {
     "name": "stderr",
     "output_type": "stream",
     "text": [
      "100%|██████████| 155/155 [00:53<00:00,  2.92it/s]\n"
     ]
    },
    {
     "name": "stdout",
     "output_type": "stream",
     "text": [
      "EPOCH: 65\n",
      "Mean loss: 0.13085203502447373\n"
     ]
    },
    {
     "name": "stderr",
     "output_type": "stream",
     "text": [
      "100%|██████████| 155/155 [00:52<00:00,  2.96it/s]\n"
     ]
    },
    {
     "name": "stdout",
     "output_type": "stream",
     "text": [
      "EPOCH: 66\n",
      "Mean loss: 0.1295760544317384\n"
     ]
    },
    {
     "name": "stderr",
     "output_type": "stream",
     "text": [
      "100%|██████████| 155/155 [00:52<00:00,  2.95it/s]\n"
     ]
    },
    {
     "name": "stdout",
     "output_type": "stream",
     "text": [
      "EPOCH: 67\n",
      "Mean loss: 0.1253992926449545\n"
     ]
    },
    {
     "name": "stderr",
     "output_type": "stream",
     "text": [
      "100%|██████████| 155/155 [00:53<00:00,  2.92it/s]\n"
     ]
    },
    {
     "name": "stdout",
     "output_type": "stream",
     "text": [
      "EPOCH: 68\n",
      "Mean loss: 0.12765413895249367\n"
     ]
    },
    {
     "name": "stderr",
     "output_type": "stream",
     "text": [
      "100%|██████████| 155/155 [00:52<00:00,  2.93it/s]\n"
     ]
    },
    {
     "name": "stdout",
     "output_type": "stream",
     "text": [
      "EPOCH: 69\n",
      "Mean loss: 0.1246058534710638\n"
     ]
    },
    {
     "name": "stderr",
     "output_type": "stream",
     "text": [
      "100%|██████████| 155/155 [00:52<00:00,  2.95it/s]\n"
     ]
    },
    {
     "name": "stdout",
     "output_type": "stream",
     "text": [
      "EPOCH: 70\n",
      "Mean loss: 0.12481451464756843\n"
     ]
    },
    {
     "name": "stderr",
     "output_type": "stream",
     "text": [
      "100%|██████████| 155/155 [00:52<00:00,  2.95it/s]\n"
     ]
    },
    {
     "name": "stdout",
     "output_type": "stream",
     "text": [
      "EPOCH: 71\n",
      "Mean loss: 0.12237191821538633\n"
     ]
    },
    {
     "name": "stderr",
     "output_type": "stream",
     "text": [
      "100%|██████████| 155/155 [00:52<00:00,  2.93it/s]\n"
     ]
    },
    {
     "name": "stdout",
     "output_type": "stream",
     "text": [
      "EPOCH: 72\n",
      "Mean loss: 0.12647686482917878\n"
     ]
    },
    {
     "name": "stderr",
     "output_type": "stream",
     "text": [
      "100%|██████████| 155/155 [00:53<00:00,  2.92it/s]\n"
     ]
    },
    {
     "name": "stdout",
     "output_type": "stream",
     "text": [
      "EPOCH: 73\n",
      "Mean loss: 0.1242132363540511\n"
     ]
    },
    {
     "name": "stderr",
     "output_type": "stream",
     "text": [
      "100%|██████████| 155/155 [00:53<00:00,  2.90it/s]\n"
     ]
    },
    {
     "name": "stdout",
     "output_type": "stream",
     "text": [
      "EPOCH: 74\n",
      "Mean loss: 0.12407787785895409\n"
     ]
    },
    {
     "name": "stderr",
     "output_type": "stream",
     "text": [
      "100%|██████████| 155/155 [00:53<00:00,  2.91it/s]\n"
     ]
    },
    {
     "name": "stdout",
     "output_type": "stream",
     "text": [
      "EPOCH: 75\n",
      "Mean loss: 0.12712375175568366\n"
     ]
    },
    {
     "name": "stderr",
     "output_type": "stream",
     "text": [
      "100%|██████████| 155/155 [00:52<00:00,  2.93it/s]\n"
     ]
    },
    {
     "name": "stdout",
     "output_type": "stream",
     "text": [
      "EPOCH: 76\n",
      "Mean loss: 0.12423682186392046\n"
     ]
    },
    {
     "name": "stderr",
     "output_type": "stream",
     "text": [
      "100%|██████████| 155/155 [00:52<00:00,  2.93it/s]\n"
     ]
    },
    {
     "name": "stdout",
     "output_type": "stream",
     "text": [
      "EPOCH: 77\n",
      "Mean loss: 0.12410402903633733\n"
     ]
    },
    {
     "name": "stderr",
     "output_type": "stream",
     "text": [
      "100%|██████████| 155/155 [00:51<00:00,  2.98it/s]\n"
     ]
    },
    {
     "name": "stdout",
     "output_type": "stream",
     "text": [
      "EPOCH: 78\n",
      "Mean loss: 0.11941011308902694\n"
     ]
    },
    {
     "name": "stderr",
     "output_type": "stream",
     "text": [
      "100%|██████████| 155/155 [00:50<00:00,  3.04it/s]\n"
     ]
    },
    {
     "name": "stdout",
     "output_type": "stream",
     "text": [
      "EPOCH: 79\n",
      "Mean loss: 0.11869471664390256\n"
     ]
    },
    {
     "name": "stderr",
     "output_type": "stream",
     "text": [
      "100%|██████████| 155/155 [00:52<00:00,  2.97it/s]\n"
     ]
    },
    {
     "name": "stdout",
     "output_type": "stream",
     "text": [
      "EPOCH: 80\n",
      "Mean loss: 0.1180258208705533\n"
     ]
    },
    {
     "name": "stderr",
     "output_type": "stream",
     "text": [
      "100%|██████████| 155/155 [00:52<00:00,  2.97it/s]\n"
     ]
    },
    {
     "name": "stdout",
     "output_type": "stream",
     "text": [
      "EPOCH: 81\n",
      "Mean loss: 0.1187108043701418\n"
     ]
    },
    {
     "name": "stderr",
     "output_type": "stream",
     "text": [
      "100%|██████████| 155/155 [00:53<00:00,  2.90it/s]\n"
     ]
    },
    {
     "name": "stdout",
     "output_type": "stream",
     "text": [
      "EPOCH: 82\n",
      "Mean loss: 0.12052800376569071\n"
     ]
    },
    {
     "name": "stderr",
     "output_type": "stream",
     "text": [
      "100%|██████████| 155/155 [00:53<00:00,  2.91it/s]\n"
     ]
    },
    {
     "name": "stdout",
     "output_type": "stream",
     "text": [
      "EPOCH: 83\n",
      "Mean loss: 0.1147165285964166\n"
     ]
    },
    {
     "name": "stderr",
     "output_type": "stream",
     "text": [
      "100%|██████████| 155/155 [00:53<00:00,  2.89it/s]\n"
     ]
    },
    {
     "name": "stdout",
     "output_type": "stream",
     "text": [
      "EPOCH: 84\n",
      "Mean loss: 0.11377705107292821\n"
     ]
    },
    {
     "name": "stderr",
     "output_type": "stream",
     "text": [
      "100%|██████████| 155/155 [00:53<00:00,  2.88it/s]\n"
     ]
    },
    {
     "name": "stdout",
     "output_type": "stream",
     "text": [
      "EPOCH: 85\n",
      "Mean loss: 0.11421979641722095\n"
     ]
    },
    {
     "name": "stderr",
     "output_type": "stream",
     "text": [
      "100%|██████████| 155/155 [00:53<00:00,  2.88it/s]\n"
     ]
    },
    {
     "name": "stdout",
     "output_type": "stream",
     "text": [
      "EPOCH: 86\n",
      "Mean loss: 0.11220787452353585\n"
     ]
    },
    {
     "name": "stderr",
     "output_type": "stream",
     "text": [
      "100%|██████████| 155/155 [00:54<00:00,  2.87it/s]\n"
     ]
    },
    {
     "name": "stdout",
     "output_type": "stream",
     "text": [
      "EPOCH: 87\n",
      "Mean loss: 0.11256848439093559\n"
     ]
    },
    {
     "name": "stderr",
     "output_type": "stream",
     "text": [
      "100%|██████████| 155/155 [00:53<00:00,  2.88it/s]\n"
     ]
    },
    {
     "name": "stdout",
     "output_type": "stream",
     "text": [
      "EPOCH: 88\n",
      "Mean loss: 0.11100949965898067\n"
     ]
    },
    {
     "name": "stderr",
     "output_type": "stream",
     "text": [
      "100%|██████████| 155/155 [00:53<00:00,  2.89it/s]\n"
     ]
    },
    {
     "name": "stdout",
     "output_type": "stream",
     "text": [
      "EPOCH: 89\n",
      "Mean loss: 0.11160719627814908\n"
     ]
    },
    {
     "name": "stderr",
     "output_type": "stream",
     "text": [
      "100%|██████████| 155/155 [00:53<00:00,  2.90it/s]\n"
     ]
    },
    {
     "name": "stdout",
     "output_type": "stream",
     "text": [
      "EPOCH: 90\n",
      "Mean loss: 0.11050003608388285\n"
     ]
    },
    {
     "name": "stderr",
     "output_type": "stream",
     "text": [
      "100%|██████████| 155/155 [00:53<00:00,  2.88it/s]\n"
     ]
    },
    {
     "name": "stdout",
     "output_type": "stream",
     "text": [
      "EPOCH: 91\n",
      "Mean loss: 0.10655978956530171\n"
     ]
    },
    {
     "name": "stderr",
     "output_type": "stream",
     "text": [
      "100%|██████████| 155/155 [00:53<00:00,  2.87it/s]\n"
     ]
    },
    {
     "name": "stdout",
     "output_type": "stream",
     "text": [
      "EPOCH: 92\n",
      "Mean loss: 0.1073552790308191\n"
     ]
    },
    {
     "name": "stderr",
     "output_type": "stream",
     "text": [
      "100%|██████████| 155/155 [00:53<00:00,  2.88it/s]\n"
     ]
    },
    {
     "name": "stdout",
     "output_type": "stream",
     "text": [
      "EPOCH: 93\n",
      "Mean loss: 0.11235180985062353\n"
     ]
    },
    {
     "name": "stderr",
     "output_type": "stream",
     "text": [
      "100%|██████████| 155/155 [00:54<00:00,  2.87it/s]\n"
     ]
    },
    {
     "name": "stdout",
     "output_type": "stream",
     "text": [
      "EPOCH: 94\n",
      "Mean loss: 0.11367148213809536\n"
     ]
    },
    {
     "name": "stderr",
     "output_type": "stream",
     "text": [
      "100%|██████████| 155/155 [00:54<00:00,  2.87it/s]\n"
     ]
    },
    {
     "name": "stdout",
     "output_type": "stream",
     "text": [
      "EPOCH: 95\n",
      "Mean loss: 0.11042649717100204\n"
     ]
    },
    {
     "name": "stderr",
     "output_type": "stream",
     "text": [
      "100%|██████████| 155/155 [00:54<00:00,  2.87it/s]\n"
     ]
    },
    {
     "name": "stdout",
     "output_type": "stream",
     "text": [
      "EPOCH: 96\n",
      "Mean loss: 0.10676203193443437\n"
     ]
    },
    {
     "name": "stderr",
     "output_type": "stream",
     "text": [
      "100%|██████████| 155/155 [00:53<00:00,  2.90it/s]\n"
     ]
    },
    {
     "name": "stdout",
     "output_type": "stream",
     "text": [
      "EPOCH: 97\n",
      "Mean loss: 0.10851384869986964\n"
     ]
    },
    {
     "name": "stderr",
     "output_type": "stream",
     "text": [
      "100%|██████████| 155/155 [00:53<00:00,  2.92it/s]\n"
     ]
    },
    {
     "name": "stdout",
     "output_type": "stream",
     "text": [
      "EPOCH: 98\n",
      "Mean loss: 0.10856977614664262\n"
     ]
    },
    {
     "name": "stderr",
     "output_type": "stream",
     "text": [
      "100%|██████████| 155/155 [00:52<00:00,  2.98it/s]\n"
     ]
    },
    {
     "name": "stdout",
     "output_type": "stream",
     "text": [
      "EPOCH: 99\n",
      "Mean loss: 0.10692698760859427\n"
     ]
    }
   ],
   "source": [
    "'''\n",
    "\n",
    "This code snippet sets up a directory to save model weights,\n",
    "defines a training loop for a specified number of epochs,\n",
    "and trains the model while saving the weights after each epoch.\n",
    "It also prints the mean loss for each epoch.\n",
    "\n",
    "'''\n",
    "\n",
    "\n",
    "# Define the directory to save the model weights\n",
    "save_dir = '/data1/sprasad/maskingApproach2/vit_model_weights_3_2'  # Define the directory to save the model weights\n",
    "os.makedirs(save_dir, exist_ok=True)  # Create the directory if it does not exist\n",
    "\n",
    "# Training loop\n",
    "num_epochs = 100  # Define the number of epochs for training\n",
    "\n",
    "device = \"cuda\" if torch.cuda.is_available() else \"cpu\"  # Use GPU if available, otherwise use CPU\n",
    "model.to(device)  # Move the model to the appropriate device (GPU or CPU)\n",
    "\n",
    "model.train()  # Set the model to training mode\n",
    "for epoch in range(num_epochs):  # Loop over the number of epochs\n",
    "    epoch_losses = []  # Initialize a list to store the loss for each batch in the epoch\n",
    "    for batch in tqdm(train_dataloader):  # Loop over batches in the training dataloader\n",
    "        # Forward pass\n",
    "        outputs = model(pixel_values=batch[\"pixel_values\"].to(device),  # Pass pixel values to the model\n",
    "                        input_boxes=batch[\"input_boxes\"].to(device),  # Pass bounding boxes to the model\n",
    "                        multimask_output=False)  # Disable multi-mask output\n",
    "\n",
    "        # Compute loss\n",
    "        predicted_masks = outputs.pred_masks.squeeze(1)  # Extract predicted masks and remove the extra dimension\n",
    "        ground_truth_masks = batch[\"ground_truth_mask\"].float().to(device)  # Get ground truth masks and move to the appropriate device\n",
    "        loss = seg_loss(predicted_masks, ground_truth_masks.unsqueeze(1))  # Compute the loss between predicted and ground truth masks\n",
    "\n",
    "        # Backward pass (compute gradients of parameters w.r.t. loss)\n",
    "        optimizer.zero_grad()  # Zero the gradients before the backward pass\n",
    "        loss.backward()  # Compute the gradients\n",
    "\n",
    "        # Optimize\n",
    "        optimizer.step()  # Update the model parameters\n",
    "        epoch_losses.append(loss.item())  # Append the loss for the current batch to the list\n",
    "\n",
    "    # Save model weights after each epoch\n",
    "    save_path = os.path.join(save_dir, f'model_epoch_{epoch}.pth')  # Define the save path for the model weights\n",
    "    torch.save(model.state_dict(), save_path)  # Save the model weights\n",
    "\n",
    "    print(f'EPOCH: {epoch}')  # Print the current epoch\n",
    "    print(f'Mean loss: {mean(epoch_losses)}')  # Print the mean loss for the epoch\n"
   ]
  },
  {
   "cell_type": "code",
   "execution_count": null,
   "metadata": {},
   "outputs": [],
   "source": []
  },
  {
   "cell_type": "code",
   "execution_count": null,
   "metadata": {},
   "outputs": [],
   "source": []
  },
  {
   "cell_type": "code",
   "execution_count": null,
   "metadata": {},
   "outputs": [],
   "source": []
  }
 ],
 "metadata": {
  "kernelspec": {
   "display_name": "Python 3",
   "language": "python",
   "name": "python3"
  },
  "language_info": {
   "codemirror_mode": {
    "name": "ipython",
    "version": 3
   },
   "file_extension": ".py",
   "mimetype": "text/x-python",
   "name": "python",
   "nbconvert_exporter": "python",
   "pygments_lexer": "ipython3",
   "version": "3.10.12"
  }
 },
 "nbformat": 4,
 "nbformat_minor": 2
}
